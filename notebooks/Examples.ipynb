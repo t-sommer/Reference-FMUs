{
 "cells": [
  {
   "cell_type": "code",
   "execution_count": null,
   "id": "fda8d813-77d2-461e-8d26-d5805b0dab21",
   "metadata": {
    "tags": []
   },
   "outputs": [],
   "source": [
    "import numpy as np\n",
    "import os\n",
    "import platform\n",
    "from fmpy import read_csv, plot_result\n",
    "\n",
    "# get the current operating system\n",
    "system = platform.system()\n",
    "\n",
    "# get the current working directory\n",
    "root = os.path.dirname(os.path.abspath(\"\"))\n",
    "\n",
    "# determine which fmusim executable to use\n",
    "if system == 'Darwin':\n",
    "    fmusim = os.path.join(root, 'fmusim-darwin', 'fmusim')\n",
    "elif system == 'Linux':\n",
    "    fmusim = os.path.join(root, 'fmusim-linux', 'fmusim')\n",
    "elif system == 'Windows':\n",
    "    fmusim = os.path.join(root, 'fmusim-windows', 'fmusim.exe')\n",
    "else:\n",
    "    raise Exception(\"Unkonwn system: {system}.\")"
   ]
  },
  {
   "cell_type": "code",
   "execution_count": null,
   "id": "3981992f-f5e0-4dd3-9774-3d66941afcb7",
   "metadata": {
    "tags": []
   },
   "outputs": [],
   "source": [
    "# display help\n",
    "! {fmusim} --help"
   ]
  },
  {
   "cell_type": "code",
   "execution_count": null,
   "id": "4ea4661c-e2a4-490c-916d-f559f1c31471",
   "metadata": {
    "tags": []
   },
   "outputs": [],
   "source": [
    "# simulate the default experiment with different start values and save the output to a file\n",
    "! {fmusim} --start-value h 0.5 --start-value v 5 --output-file result.csv ../2.0/BouncingBall.fmu\n",
    "\n",
    "# read the CSV file\n",
    "result = read_csv('result.csv')\n",
    "\n",
    "# plot all variables in the result\n",
    "plot_result(result)"
   ]
  },
  {
   "cell_type": "code",
   "execution_count": null,
   "id": "640161ee-9471-42e1-ab3f-3509e99765fd",
   "metadata": {
    "tags": []
   },
   "outputs": [],
   "source": [
    "# simulate provide an input file with input for two input variables and trace to output variables\n",
    "! {fmusim} --input-file Feedthrough_in.csv --output-variable Float64_continuous_output --output-variable Boolean_output --output-file result.csv ../2.0/Feedthrough.fmu\n",
    "\n",
    "result = read_csv('result.csv')\n",
    "plot_result(result)"
   ]
  },
  {
   "cell_type": "code",
   "execution_count": null,
   "id": "4ddb08f1-c3c3-4844-995f-3e2ecc3c3f8c",
   "metadata": {
    "tags": []
   },
   "outputs": [],
   "source": [
    "# simulate 0.03 s with a step size of 1e-2 s, use the Model Exchange interface with the \"Euler\" solver, and log the FMI calls\n",
    "! {fmusim} --stop-time 0.03 --output-interval 1e-2 --interface-type me --solver euler --log-fmi-calls ../2.0/BouncingBall.fmu"
   ]
  },
  {
   "cell_type": "code",
   "execution_count": null,
   "id": "34243aad-8dce-45fb-9593-3a913f515371",
   "metadata": {
    "tags": []
   },
   "outputs": [],
   "source": [
    "# simulate to 1 s and save the FMU state\n",
    "! {fmusim} --stop-time 1 --output-file result1.csv --final-fmu-state-file fmu_state.bin ../2.0/BouncingBall.fmu\n",
    "\n",
    "# restore the FMU state and continue the simulation to 3 s \n",
    "! {fmusim} --start-time 1 --stop-time 3 --output-file result2.csv --initial-fmu-state-file fmu_state.bin ../2.0/BouncingBall.fmu\n",
    "\n",
    "# read the results\n",
    "result1 = read_csv('result1.csv')\n",
    "result2 = read_csv('result2.csv')\n",
    "\n",
    "# combine the results\n",
    "result = np.concatenate([result1, result2])\n",
    "\n",
    "plot_result(result, events=True)"
   ]
  },
  {
   "cell_type": "code",
   "execution_count": null,
   "id": "f2faf5a8-61a2-432f-af77-7cc24d7abad9",
   "metadata": {},
   "outputs": [],
   "source": []
  }
 ],
 "metadata": {
  "kernelspec": {
   "display_name": "Python 3 (ipykernel)",
   "language": "python",
   "name": "python3"
  },
  "language_info": {
   "codemirror_mode": {
    "name": "ipython",
    "version": 3
   },
   "file_extension": ".py",
   "mimetype": "text/x-python",
   "name": "python",
   "nbconvert_exporter": "python",
   "pygments_lexer": "ipython3",
   "version": "3.10.6"
  }
 },
 "nbformat": 4,
 "nbformat_minor": 5
}
